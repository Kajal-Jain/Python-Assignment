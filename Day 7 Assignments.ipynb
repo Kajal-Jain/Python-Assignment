{
 "cells": [
  {
   "cell_type": "code",
   "execution_count": 1,
   "metadata": {},
   "outputs": [
    {
     "name": "stdout",
     "output_type": "stream",
     "text": [
      "Orignal Dictionary: {21: 'FTP', 22: 'SSH', 23: 'telnet', 80: 'http'}\n",
      "Swaped New Dictionary: {'FTP': 21, 'SSH': 22, 'telnet': 23, 'http': 80}\n"
     ]
    }
   ],
   "source": [
    "\"\"\"Assignment1 -Use the Dictionary\n",
    "         port1={21:\"FTP\",22:\"SSH\",23:\"telnet\",80:\"http\"}\n",
    "    make a new dictionary in which keys becomes values and values become keys\n",
    "    as shown: \n",
    "         port2={\"FTP\":21,\"SSh\":22,\"telnet\":23,\"http\":80} \"\"\"\n",
    "\n",
    "\n",
    "port1={21:\"FTP\",22:\"SSH\",23:\"telnet\",80:\"http\"}\n",
    "print(\"Orignal Dictionary:\",port1)\n",
    "port2={value:key for key,value in port1.items()}\n",
    "print(\"Swaped New Dictionary:\",port2)\n"
   ]
  },
  {
   "cell_type": "code",
   "execution_count": 2,
   "metadata": {},
   "outputs": [
    {
     "name": "stdout",
     "output_type": "stream",
     "text": [
      "[3, 7, 11, 9]\n"
     ]
    }
   ],
   "source": [
    "\"\"\"Assignment2- Take a list of Tuples as shown below \n",
    "     [(1,2),(3,4),(5,6),(4,5)]\n",
    "     Make a new List which contains sum of the number of tuples\n",
    "     for example- [(1,2),(3,4),(5,6)]\n",
    "      output - [3,7,11] \"\"\"\n",
    "\n",
    "list1=[(1,2),(3,4),(5,6),(4,5)]\n",
    "res=[]\n",
    "for each in range(0,len(list1)):\n",
    "    a,b=list1[each]\n",
    "    res.append(a+b)\n",
    "print(res)"
   ]
  },
  {
   "cell_type": "code",
   "execution_count": 3,
   "metadata": {},
   "outputs": [
    {
     "name": "stdout",
     "output_type": "stream",
     "text": [
      "[1, 2, 3, 1, 2, 'a', 'hit', 'less']\n"
     ]
    }
   ],
   "source": [
    "\"\"\"Assignments3- Take a list as shown below\n",
    "      [(1,2,3),[1,2],['a','hit','less']]\n",
    "     List contains list and tuples.Make Element of inner list and tuplesto outer lists\"\"\"\n",
    "list1=[(1,2,3),[1,2],['a','hit','less']]\n",
    "list2=[]\n",
    "list2=[i for each in list1 for i in each]\n",
    "print (list2)"
   ]
  },
  {
   "cell_type": "code",
   "execution_count": null,
   "metadata": {},
   "outputs": [],
   "source": []
  }
 ],
 "metadata": {
  "kernelspec": {
   "display_name": "Python 3",
   "language": "python",
   "name": "python3"
  },
  "language_info": {
   "codemirror_mode": {
    "name": "ipython",
    "version": 3
   },
   "file_extension": ".py",
   "mimetype": "text/x-python",
   "name": "python",
   "nbconvert_exporter": "python",
   "pygments_lexer": "ipython3",
   "version": "3.7.6"
  }
 },
 "nbformat": 4,
 "nbformat_minor": 4
}
