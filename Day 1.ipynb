{
 "cells": [
  {
   "cell_type": "raw",
   "metadata": {},
   "source": [
    "DAY 1 ASSIGNMENT\n",
    "1) WHAT IS PYTHON? WHAT ARE THE WAYS TO INSTALL PYTHON?\n",
    "Python is an interpreted, high-level, general-purpose programming language. Created by Guido van Rossum and first released in 1991, Python's design philosophy emphasizes code readability with its notable use of significant whitespace. Its language constructs and object-oriented approach aim to help programmers write clear, logical code for small and large-scale projects.\n",
    "To install python, we need to install anaconda in our pc or laptop. It helps to reach various other libraries as well as jupyter notebook.\n",
    "2) WHAT ARE CODE ENVIRONMENTS?\n",
    "It is a place where we can write down codes, compile, execute, see the performance and the output of the code in a same place.\n",
    "There are 3 types:\n",
    "1) text editors\n",
    "2) full IDEs\n",
    "3)notebook environment"
   ]
  },
  {
   "cell_type": "code",
   "execution_count": null,
   "metadata": {},
   "outputs": [],
   "source": []
  }
 ],
 "metadata": {
  "kernelspec": {
   "display_name": "Python 3",
   "language": "python",
   "name": "python3"
  },
  "language_info": {
   "codemirror_mode": {
    "name": "ipython",
    "version": 3
   },
   "file_extension": ".py",
   "mimetype": "text/x-python",
   "name": "python",
   "nbconvert_exporter": "python",
   "pygments_lexer": "ipython3",
   "version": "3.7.6"
  }
 },
 "nbformat": 4,
 "nbformat_minor": 4
}
