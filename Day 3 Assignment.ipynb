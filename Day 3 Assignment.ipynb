{
 "cells": [
  {
   "cell_type": "markdown",
   "metadata": {},
   "source": [
    "Q.1]Sum of n numbers using while loop"
   ]
  },
  {
   "cell_type": "code",
   "execution_count": 1,
   "metadata": {},
   "outputs": [
    {
     "name": "stdout",
     "output_type": "stream",
     "text": [
      "9 --> 10\n",
      "8 --> 19\n",
      "7 --> 27\n",
      "6 --> 34\n",
      "5 --> 40\n",
      "4 --> 45\n",
      "3 --> 49\n",
      "2 --> 52\n",
      "1 --> 54\n",
      "0 --> 55\n",
      "The total sum is- 55\n"
     ]
    }
   ],
   "source": [
    "num=10\n",
    "sum=0\n",
    "while num>0:\n",
    "    sum=sum+num\n",
    "    num=num-1\n",
    "    print(num,\"-->\",sum)\n",
    "print(\"The total sum is-\",sum)"
   ]
  },
  {
   "cell_type": "markdown",
   "metadata": {},
   "source": [
    "Q.2 ]Take int value as input and check whether it is prime or not"
   ]
  },
  {
   "cell_type": "code",
   "execution_count": 12,
   "metadata": {},
   "outputs": [
    {
     "name": "stdout",
     "output_type": "stream",
     "text": [
      "Enter the number19\n",
      "19 is prime number\n"
     ]
    }
   ],
   "source": [
    "val=int(input(\"Enter the number\"))\n",
    "if val>1:\n",
    "    for i in range(2,val):\n",
    "        if(val % i)==0:\n",
    "            print(val,\"is not a prime number\")\n",
    "            break\n",
    "        \n",
    "    else:\n",
    "        print(val,\"is prime number\")\n",
    "else:\n",
    "    print(val, \"is not a prime no\")"
   ]
  },
  {
   "cell_type": "code",
   "execution_count": null,
   "metadata": {},
   "outputs": [],
   "source": []
  }
 ],
 "metadata": {
  "kernelspec": {
   "display_name": "Python 3",
   "language": "python",
   "name": "python3"
  },
  "language_info": {
   "codemirror_mode": {
    "name": "ipython",
    "version": 3
   },
   "file_extension": ".py",
   "mimetype": "text/x-python",
   "name": "python",
   "nbconvert_exporter": "python",
   "pygments_lexer": "ipython3",
   "version": "3.7.6"
  }
 },
 "nbformat": 4,
 "nbformat_minor": 4
}
