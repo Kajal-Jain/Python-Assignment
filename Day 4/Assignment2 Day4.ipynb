{
 "cells": [
  {
   "cell_type": "markdown",
   "metadata": {},
   "source": [
    "# isupper()"
   ]
  },
  {
   "cell_type": "code",
   "execution_count": 2,
   "metadata": {},
   "outputs": [
    {
     "name": "stdout",
     "output_type": "stream",
     "text": [
      "True\n",
      "True\n",
      "False\n",
      "False\n",
      "True\n"
     ]
    }
   ],
   "source": [
    "str1 = \"KAJAL\"\n",
    "print(str1.isupper())\n",
    "str2 = \"KAJAL.JAIN\"\n",
    "print(str2.isupper())\n",
    "str3 = \"KAJAL-jain\"\n",
    "print(str3.isupper())\n",
    "str4 = \"kajal-jain\"\n",
    "print(str4.isupper())\n",
    "str5 = \"KAJAL@@JAIN\"\n",
    "print(str5.isupper())"
   ]
  },
  {
   "cell_type": "markdown",
   "metadata": {},
   "source": [
    "# islower()"
   ]
  },
  {
   "cell_type": "code",
   "execution_count": 4,
   "metadata": {},
   "outputs": [
    {
     "name": "stdout",
     "output_type": "stream",
     "text": [
      "False\n",
      "True\n",
      "False\n",
      "False\n",
      "True\n",
      "False\n"
     ]
    }
   ],
   "source": [
    "str1 = \"KAJAL\"\n",
    "print(str1.islower())\n",
    "str2 = \"kajal.jain\"\n",
    "print(str2.islower())\n",
    "str3 = \"KAJAL-jain\"\n",
    "print(str3.islower())\n",
    "str4 = \"KAJAL-JAIN\"\n",
    "print(str4.islower())\n",
    "str5 = \"kajal@@jain\"\n",
    "print(str5.islower())\n",
    "str6=\"1324\"\n",
    "print(str6.islower())"
   ]
  },
  {
   "cell_type": "code",
   "execution_count": null,
   "metadata": {},
   "outputs": [],
   "source": []
  }
 ],
 "metadata": {
  "kernelspec": {
   "display_name": "Python 3",
   "language": "python",
   "name": "python3"
  },
  "language_info": {
   "codemirror_mode": {
    "name": "ipython",
    "version": 3
   },
   "file_extension": ".py",
   "mimetype": "text/x-python",
   "name": "python",
   "nbconvert_exporter": "python",
   "pygments_lexer": "ipython3",
   "version": "3.7.6"
  }
 },
 "nbformat": 4,
 "nbformat_minor": 4
}
